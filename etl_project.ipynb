{
 "cells": [
  {
   "cell_type": "code",
   "execution_count": 1,
   "id": "6005ca89-7e56-4074-bb22-20151c8c10f1",
   "metadata": {},
   "outputs": [],
   "source": [
    "import glob \n",
    "import pandas as pd \n",
    "import numpy as np\n",
    "import xml.etree.ElementTree as ET \n",
    "from datetime import datetime "
   ]
  },
  {
   "cell_type": "code",
   "execution_count": 2,
   "id": "a4f09b40-d5aa-480e-903a-244ba8157955",
   "metadata": {},
   "outputs": [],
   "source": [
    "URL=\"https://web.archive.org/web/20230908091635%20/https://en.wikipedia.org/wiki/List_of_largest_banks\""
   ]
  },
  {
   "cell_type": "code",
   "execution_count": 11,
   "id": "5a976818-8569-4b33-ac0e-ba65b3ed1a1f",
   "metadata": {},
   "outputs": [],
   "source": [
    "def extract(url):\n",
    "    # Read the tables from the URL using pandas\n",
    "    try:\n",
    "        tables = pd.read_html(url)\n",
    "        if tables:\n",
    "            # Assuming the first table matches the criteria\n",
    "            df = tables[1]\n",
    "            print(df)\n",
    "            return df\n",
    "        else:\n",
    "            print(\"No tables found with the given attributes.\")\n",
    "            return pd.DataFrame()  # Return an empty DataFrame\n",
    "    except Exception as e:\n",
    "        print(f\"An error occurred: {e}\")\n",
    "        return pd.DataFrame()\n"
   ]
  },
  {
   "cell_type": "code",
   "execution_count": 17,
   "id": "538126de-2357-4566-925c-8d8413c4df68",
   "metadata": {},
   "outputs": [
    {
     "name": "stdout",
     "output_type": "stream",
     "text": [
      "   Rank                                Bank name  Market cap (US$ billion)\n",
      "0     1                           JPMorgan Chase                    432.92\n",
      "1     2                          Bank of America                    231.52\n",
      "2     3  Industrial and Commercial Bank of China                    194.56\n",
      "3     4               Agricultural Bank of China                    160.68\n",
      "4     5                                HDFC Bank                    157.91\n",
      "5     6                              Wells Fargo                    155.87\n",
      "6     7                        HSBC Holdings PLC                    148.90\n",
      "7     8                           Morgan Stanley                    140.83\n",
      "8     9                  China Construction Bank                    139.82\n",
      "9    10                            Bank of China                    136.81\n"
     ]
    }
   ],
   "source": [
    "df=extract(URL)"
   ]
  },
  {
   "cell_type": "code",
   "execution_count": 85,
   "id": "6f0af211-8c3c-4c19-a1b2-6c3037ba00d1",
   "metadata": {},
   "outputs": [],
   "source": [
    "def transform(df):\n",
    "    df = df.rename(columns = {'Bank name' : 'Name'})\n",
    "    df = df.rename(columns = {'Market cap (US$ billion)' : 'MC_USD_Billion'})\n",
    "    df['MC_GBP_Billion'] = np.round(df['MC_USD_Billion']*0.8,2)\n",
    "    df['MC_EUR_Billion'] = np.round(df['MC_USD_Billion']*0.93,2)\n",
    "    df['MC_INR_Billion'] = np.round(df['MC_USD_Billion']*82.95,2)\n",
    "    return df"
   ]
  },
  {
   "cell_type": "code",
   "execution_count": 87,
   "id": "0affbd0f-0587-4df8-9dcb-ed78f6cf73ec",
   "metadata": {},
   "outputs": [
    {
     "name": "stdout",
     "output_type": "stream",
     "text": [
      "   Rank                                     Name  MC_USD_Billion  \\\n",
      "0     1                           JPMorgan Chase          432.92   \n",
      "1     2                          Bank of America          231.52   \n",
      "2     3  Industrial and Commercial Bank of China          194.56   \n",
      "3     4               Agricultural Bank of China          160.68   \n",
      "4     5                                HDFC Bank          157.91   \n",
      "5     6                              Wells Fargo          155.87   \n",
      "6     7                        HSBC Holdings PLC          148.90   \n",
      "7     8                           Morgan Stanley          140.83   \n",
      "8     9                  China Construction Bank          139.82   \n",
      "9    10                            Bank of China          136.81   \n",
      "\n",
      "   MC_GBP_Billion  MC_EUR_Billion  MC_INR_Billion  \n",
      "0          346.34          402.62        35910.71  \n",
      "1          185.22          215.31        19204.58  \n",
      "2          155.65          180.94        16138.75  \n",
      "3          128.54          149.43        13328.41  \n",
      "4          126.33          146.86        13098.63  \n",
      "5          124.70          144.96        12929.42  \n",
      "6          119.12          138.48        12351.26  \n",
      "7          112.66          130.97        11681.85  \n",
      "8          111.86          130.03        11598.07  \n",
      "9          109.45          127.23        11348.39  \n"
     ]
    }
   ],
   "source": [
    "df=transform(df)\n",
    "print(df)"
   ]
  },
  {
   "cell_type": "code",
   "execution_count": 27,
   "id": "10758eb1-3b94-4605-87f7-89022c0c6210",
   "metadata": {},
   "outputs": [],
   "source": [
    "csv_file='C:/Users/NARAYAN1.JHA/Downloads/Largest_banks_data.csv'\n",
    "def load_to_csv(csv_file,df):\n",
    "    df.to_csv(csv_file)\n",
    "    "
   ]
  },
  {
   "cell_type": "code",
   "execution_count": 28,
   "id": "8e531838-a136-4f25-b123-1aa7ec902d9c",
   "metadata": {},
   "outputs": [],
   "source": [
    "load_to_csv(csv_file,df)"
   ]
  },
  {
   "cell_type": "code",
   "execution_count": 30,
   "id": "31a8e66f-063c-4eb7-8c49-bba96c6ecd7e",
   "metadata": {},
   "outputs": [],
   "source": [
    "log_file = 'C:/Users/NARAYAN1.JHA/Downloads/log_file.txt'\n",
    "def log_progress(message): \n",
    "    timestamp_format = '%Y-%h-%d-%H:%M:%S' # Year-Monthname-Day-Hour-Minute-Second \n",
    "    now = datetime.now() # get current timestamp \n",
    "    timestamp = now.strftime(timestamp_format) \n",
    "    with open(log_file,\"a\") as f: \n",
    "        f.write(timestamp + ',' + message + '\\n') "
   ]
  },
  {
   "cell_type": "code",
   "execution_count": 35,
   "id": "d2aa981e-e1ba-4967-b124-6a8df7f6d130",
   "metadata": {},
   "outputs": [],
   "source": [
    "def log_dataframe(df, log_file):\n",
    "    try:\n",
    "        # Write DataFrame to the log file in plain text format\n",
    "        with open(log_file, \"a\") as f:\n",
    "            f.write(f\"Log Timestamp: {datetime.now().strftime('%Y-%h-%d-%H:%M:%S')}\\n\")\n",
    "            f.write(df.to_string(index=False))  # Convert DataFrame to plain text\n",
    "            f.write(\"\\n\\n\")  # Add spacing for readability\n",
    "        print(f\"DataFrame successfully logged to {log_file}.\")\n",
    "    except Exception as e:\n",
    "        print(f\"An error occurred while writing the DataFrame to the log file: {e}\")"
   ]
  },
  {
   "cell_type": "code",
   "execution_count": 88,
   "id": "06b08197-da5e-4daf-b72a-ca239fefa300",
   "metadata": {},
   "outputs": [
    {
     "name": "stdout",
     "output_type": "stream",
     "text": [
      "   Rank                                Bank name  Market cap (US$ billion)\n",
      "0     1                           JPMorgan Chase                    432.92\n",
      "1     2                          Bank of America                    231.52\n",
      "2     3  Industrial and Commercial Bank of China                    194.56\n",
      "3     4               Agricultural Bank of China                    160.68\n",
      "4     5                                HDFC Bank                    157.91\n",
      "5     6                              Wells Fargo                    155.87\n",
      "6     7                        HSBC Holdings PLC                    148.90\n",
      "7     8                           Morgan Stanley                    140.83\n",
      "8     9                  China Construction Bank                    139.82\n",
      "9    10                            Bank of China                    136.81\n",
      "DataFrame successfully logged to C:/Users/NARAYAN1.JHA/Downloads/log_file.txt.\n"
     ]
    }
   ],
   "source": [
    "#Testing ETL operations and log progress\n",
    "\n",
    "# Log the initialization of the ETL process \n",
    "log_progress(\"ETL Job Started\") \n",
    " \n",
    "# Log the beginning of the Extraction process \n",
    "log_progress(\"Extract phase Started\") \n",
    "extracted_data = extract(URL)\n",
    "log_dataframe(extracted_data,log_file)\n",
    " \n",
    "# Log the completion of the Extraction process \n",
    "log_progress(\"Extract phase Ended\") "
   ]
  },
  {
   "cell_type": "code",
   "execution_count": 89,
   "id": "6f88e9fa-6773-4349-ae6b-6dab4cbe9889",
   "metadata": {},
   "outputs": [
    {
     "name": "stdout",
     "output_type": "stream",
     "text": [
      "DataFrame successfully logged to C:/Users/NARAYAN1.JHA/Downloads/log_file.txt.\n"
     ]
    }
   ],
   "source": [
    "# Log the beginning of the Transformation process \n",
    "log_progress(\"Transform phase Started\") \n",
    "transformed_data = transform(extracted_data) \n",
    "log_dataframe(transformed_data,log_file)\n",
    "\n",
    "# Log the completion of the Transformation process \n",
    "log_progress(\"Transform phase Ended\") "
   ]
  },
  {
   "cell_type": "code",
   "execution_count": 46,
   "id": "31c63042-b1ce-464f-b104-3b50900f147b",
   "metadata": {},
   "outputs": [],
   "source": [
    "# Log the beginning of the Loading process \n",
    "log_progress(\"Load phase Started\")\n",
    "csv_file1='C:/Users/NARAYAN1.JHA/Downloads/Largest_banks_data1.csv'\n",
    "load_to_csv(csv_file1,transformed_data) \n",
    "log_progress(\"Loading data to csv\")\n",
    "# Log the completion of the Loading process \n",
    "log_progress(\"Load phase Ended\") \n",
    " \n",
    "# Log the completion of the ETL process \n",
    "log_progress(\"ETL Job Ended\") \n"
   ]
  },
  {
   "cell_type": "code",
   "execution_count": 58,
   "id": "8000aae7-6af5-4a6b-8ba5-0b07f230b2c0",
   "metadata": {},
   "outputs": [
    {
     "name": "stdout",
     "output_type": "stream",
     "text": [
      "Collecting sqlalchemy\n",
      "  Downloading SQLAlchemy-2.0.37-cp312-cp312-win_amd64.whl.metadata (9.9 kB)\n",
      "Collecting greenlet!=0.4.17 (from sqlalchemy)\n",
      "  Downloading greenlet-3.1.1-cp312-cp312-win_amd64.whl.metadata (3.9 kB)\n",
      "Requirement already satisfied: typing-extensions>=4.6.0 in c:\\users\\narayan1.jha\\appdata\\local\\programs\\python\\python312\\lib\\site-packages (from sqlalchemy) (4.12.2)\n",
      "Downloading SQLAlchemy-2.0.37-cp312-cp312-win_amd64.whl (2.1 MB)\n",
      "   ---------------------------------------- 0.0/2.1 MB ? eta -:--:--\n",
      "   ---- ----------------------------------- 0.3/2.1 MB ? eta -:--:--\n",
      "   --------- ------------------------------ 0.5/2.1 MB 4.2 MB/s eta 0:00:01\n",
      "   -------------- ------------------------- 0.8/2.1 MB 1.9 MB/s eta 0:00:01\n",
      "   ------------------- -------------------- 1.0/2.1 MB 1.5 MB/s eta 0:00:01\n",
      "   ------------------- -------------------- 1.0/2.1 MB 1.5 MB/s eta 0:00:01\n",
      "   ------------------- -------------------- 1.0/2.1 MB 1.5 MB/s eta 0:00:01\n",
      "   ------------------------ --------------- 1.3/2.1 MB 818.6 kB/s eta 0:00:01\n",
      "   ------------------------ --------------- 1.3/2.1 MB 818.6 kB/s eta 0:00:01\n",
      "   ------------------------ --------------- 1.3/2.1 MB 818.6 kB/s eta 0:00:01\n",
      "   ----------------------------- ---------- 1.6/2.1 MB 717.0 kB/s eta 0:00:01\n",
      "   ----------------------------- ---------- 1.6/2.1 MB 717.0 kB/s eta 0:00:01\n",
      "   ---------------------------------- ----- 1.8/2.1 MB 699.0 kB/s eta 0:00:01\n",
      "   ---------------------------------------  2.1/2.1 MB 734.0 kB/s eta 0:00:01\n",
      "   ---------------------------------------- 2.1/2.1 MB 703.9 kB/s eta 0:00:00\n",
      "Downloading greenlet-3.1.1-cp312-cp312-win_amd64.whl (299 kB)\n",
      "Installing collected packages: greenlet, sqlalchemy\n",
      "Successfully installed greenlet-3.1.1 sqlalchemy-2.0.37\n"
     ]
    },
    {
     "name": "stderr",
     "output_type": "stream",
     "text": [
      "\n",
      "[notice] A new release of pip is available: 24.2 -> 24.3.1\n",
      "[notice] To update, run: python.exe -m pip install --upgrade pip\n"
     ]
    }
   ],
   "source": [
    "!pip install sqlalchemy"
   ]
  },
  {
   "cell_type": "code",
   "execution_count": 72,
   "id": "fab879d9-6899-4c6c-be54-be41d5acbf62",
   "metadata": {},
   "outputs": [],
   "source": [
    "import sqlite3\n",
    "from sqlalchemy import create_engine,text\n",
    "# Correct database URL format for SQLite\n",
    "db_url = \"sqlite:///my_database.db\"\n",
    "table_name = 'Bank_data'"
   ]
  },
  {
   "cell_type": "code",
   "execution_count": 90,
   "id": "d16a7f19-90dd-4963-a73a-fd28f01a4040",
   "metadata": {},
   "outputs": [],
   "source": [
    "def load_to_db(transformed_data, db_url, table_name, if_exists=\"replace\"):\n",
    "    try:\n",
    "        # Create a database connection engine\n",
    "        engine = create_engine(db_url)\n",
    "        \n",
    "        # Load DataFrame to SQL table\n",
    "        df.to_sql(name=table_name, con=engine, if_exists=if_exists, index=False)\n",
    "        \n",
    "        print(f\"Data successfully loaded into the '{table_name}' table.\")\n",
    "    except Exception as e:\n",
    "        print(f\"An error occurred while loading data to the database: {e}\")\n"
   ]
  },
  {
   "cell_type": "code",
   "execution_count": 91,
   "id": "61837e3a-6a0a-4cb2-aead-6d7f77ce973e",
   "metadata": {},
   "outputs": [
    {
     "name": "stdout",
     "output_type": "stream",
     "text": [
      "Data successfully loaded into the 'Bank_data' table.\n"
     ]
    }
   ],
   "source": [
    "load_to_db(transformed_data, db_url, table_name, if_exists=\"replace\")"
   ]
  },
  {
   "cell_type": "code",
   "execution_count": 94,
   "id": "4b2eb4ea-d448-4899-9bcd-117dfcb46a7c",
   "metadata": {},
   "outputs": [],
   "source": [
    "def run_queries(table_name):\n",
    "    engine = create_engine(db_url)\n",
    "    with engine.connect() as conn:\n",
    "        query=text(f\"SELECT * FROM {table_name}\")\n",
    "        result = conn.execute(query)\n",
    "        print(query)\n",
    "        for row in result:\n",
    "            print(row)\n",
    "\n",
    "    with engine.connect() as conn:\n",
    "        query=text(f\"SELECT AVG(MC_GBP_Billion) FROM {table_name}\")\n",
    "        result = conn.execute(query)\n",
    "        print(\"\\n\")\n",
    "        print(query)\n",
    "        for row in result:\n",
    "            print(row)\n",
    "\n",
    "    with engine.connect() as conn:\n",
    "        query=text(f\"SELECT Name FROM {table_name} LIMIT 5\")\n",
    "        result = conn.execute(query)\n",
    "        print(\"\\n\")\n",
    "        print(query)\n",
    "        for row in result:\n",
    "            print(row)"
   ]
  },
  {
   "cell_type": "code",
   "execution_count": 95,
   "id": "a26ea667-a2d5-4931-b172-eb04c822c9e8",
   "metadata": {},
   "outputs": [
    {
     "name": "stdout",
     "output_type": "stream",
     "text": [
      "SELECT * FROM Bank_data\n",
      "(1, 'JPMorgan Chase', 432.92, 346.34, 402.62, 35910.71)\n",
      "(2, 'Bank of America', 231.52, 185.22, 215.31, 19204.58)\n",
      "(3, 'Industrial and Commercial Bank of China', 194.56, 155.65, 180.94, 16138.75)\n",
      "(4, 'Agricultural Bank of China', 160.68, 128.54, 149.43, 13328.41)\n",
      "(5, 'HDFC Bank', 157.91, 126.33, 146.86, 13098.63)\n",
      "(6, 'Wells Fargo', 155.87, 124.7, 144.96, 12929.42)\n",
      "(7, 'HSBC Holdings PLC', 148.9, 119.12, 138.48, 12351.26)\n",
      "(8, 'Morgan Stanley', 140.83, 112.66, 130.97, 11681.85)\n",
      "(9, 'China Construction Bank', 139.82, 111.86, 130.03, 11598.07)\n",
      "(10, 'Bank of China', 136.81, 109.45, 127.23, 11348.39)\n",
      "\n",
      "\n",
      "SELECT AVG(MC_GBP_Billion) FROM Bank_data\n",
      "(151.987,)\n",
      "\n",
      "\n",
      "SELECT Name FROM Bank_data LIMIT 5\n",
      "('JPMorgan Chase',)\n",
      "('Bank of America',)\n",
      "('Industrial and Commercial Bank of China',)\n",
      "('Agricultural Bank of China',)\n",
      "('HDFC Bank',)\n"
     ]
    }
   ],
   "source": [
    "run_queries(table_name)"
   ]
  },
  {
   "cell_type": "code",
   "execution_count": null,
   "id": "8a16b9a8-b8b3-433a-aa8e-8a7ca86c8187",
   "metadata": {},
   "outputs": [],
   "source": []
  }
 ],
 "metadata": {
  "kernelspec": {
   "display_name": "Python 3 (ipykernel)",
   "language": "python",
   "name": "python3"
  },
  "language_info": {
   "codemirror_mode": {
    "name": "ipython",
    "version": 3
   },
   "file_extension": ".py",
   "mimetype": "text/x-python",
   "name": "python",
   "nbconvert_exporter": "python",
   "pygments_lexer": "ipython3",
   "version": "3.12.5"
  }
 },
 "nbformat": 4,
 "nbformat_minor": 5
}
